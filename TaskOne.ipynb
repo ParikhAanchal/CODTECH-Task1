{
 "cells": [
  {
   "cell_type": "code",
   "execution_count": 1,
   "id": "8b78f48f",
   "metadata": {},
   "outputs": [],
   "source": [
    "# SIMPLE CALCULATOR"
   ]
  },
  {
   "cell_type": "code",
   "execution_count": 2,
   "id": "6b609ffc",
   "metadata": {},
   "outputs": [],
   "source": [
    "import tkinter as tk\n",
    "\n",
    "def click(event):\n",
    "    global last_result\n",
    "    text = event.widget.cget(\"text\")\n",
    "    \n",
    "    if text == \"=\":\n",
    "        try:\n",
    "            result = eval(screen.get())\n",
    "            screen.delete(0, tk.END)\n",
    "            screen.insert(tk.END, str(result))\n",
    "            last_result = True\n",
    "        except:\n",
    "            screen.delete(0, tk.END)\n",
    "            screen.insert(tk.END, \"Error\")\n",
    "    elif text == \"C\":\n",
    "        screen.delete(0, tk.END)\n",
    "    else:\n",
    "        if last_result:\n",
    "            screen.delete(0, tk.END)\n",
    "            last_result = False\n",
    "        screen.insert(tk.END, text)\n",
    "\n",
    "root = tk.Tk()\n",
    "root.title(\"Calculator\")\n",
    "root.geometry(\"300x400\")\n",
    "\n",
    "screen = tk.Entry(root, font=\"Arial 18\", bd=5, relief=tk.SUNKEN, justify=\"right\")\n",
    "screen.pack(fill=tk.BOTH, ipadx=8, ipady=10, padx=10, pady=10)\n",
    "\n",
    "buttons = [\n",
    "    [\"C\", \"/\", \"%\", \"*\"],\n",
    "    [\"7\", \"8\", \"9\", \"-\"],\n",
    "    [\"4\", \"5\", \"6\", \"+\"],\n",
    "    [\"1\", \"2\", \"3\", \"=\"],\n",
    "    [\"0\", \".\", \"\"]\n",
    "]\n",
    "\n",
    "for row in buttons:\n",
    "    frame = tk.Frame(root)\n",
    "    frame.pack(expand=True, fill=tk.BOTH)\n",
    "    for btn in row:\n",
    "        if btn:\n",
    "            button = tk.Button(frame, text=btn, font=\"Arial 15\", height=2, width=5)\n",
    "            button.pack(side=tk.LEFT, expand=True, fill=tk.BOTH)\n",
    "            button.bind(\"<Button-1>\", click)\n",
    "\n",
    "last_result = False\n",
    "root.mainloop()"
   ]
  },
  {
   "cell_type": "code",
   "execution_count": null,
   "id": "f0491857",
   "metadata": {},
   "outputs": [],
   "source": []
  }
 ],
 "metadata": {
  "kernelspec": {
   "display_name": "Python 3 (ipykernel)",
   "language": "python",
   "name": "python3"
  },
  "language_info": {
   "codemirror_mode": {
    "name": "ipython",
    "version": 3
   },
   "file_extension": ".py",
   "mimetype": "text/x-python",
   "name": "python",
   "nbconvert_exporter": "python",
   "pygments_lexer": "ipython3",
   "version": "3.9.13"
  }
 },
 "nbformat": 4,
 "nbformat_minor": 5
}
